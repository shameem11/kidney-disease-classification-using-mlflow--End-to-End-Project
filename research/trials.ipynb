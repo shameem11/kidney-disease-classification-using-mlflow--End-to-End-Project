{
 "cells": [
  {
   "cell_type": "code",
   "execution_count": 1,
   "metadata": {},
   "outputs": [],
   "source": [
    "import gdown"
   ]
  },
  {
   "cell_type": "markdown",
   "metadata": {},
   "source": [
    "\n",
    "## download data from google drive "
   ]
  },
  {
   "cell_type": "code",
   "execution_count": 3,
   "metadata": {},
   "outputs": [],
   "source": [
    "url = \"https://drive.google.com/file/d/1w0uM3pK-bXDkGEe1kRTuObX_ThC5ZciK/view?usp=sharing\""
   ]
  },
  {
   "cell_type": "markdown",
   "metadata": {},
   "source": [
    "##Download data from drive "
   ]
  },
  {
   "cell_type": "code",
   "execution_count": 13,
   "metadata": {},
   "outputs": [
    {
     "data": {
      "text/plain": [
       "'1w0uM3pK-bXDkGEe1kRTuObX_ThC5ZciK'"
      ]
     },
     "execution_count": 13,
     "metadata": {},
     "output_type": "execute_result"
    }
   ],
   "source": [
    "file_path= url.split('/')[-2]\n",
    "file_path"
   ]
  },
  {
   "cell_type": "code",
   "execution_count": 14,
   "metadata": {},
   "outputs": [
    {
     "name": "stderr",
     "output_type": "stream",
     "text": [
      "Downloading...\n",
      "From (original): https://drive.google.com/uc?/export=download&id=1w0uM3pK-bXDkGEe1kRTuObX_ThC5ZciK\n",
      "From (redirected): https://drive.google.com/uc?%2Fexport=download&id=1w0uM3pK-bXDkGEe1kRTuObX_ThC5ZciK&confirm=t&uuid=80424e4b-913f-4418-a0cd-6e46b4b0825c\n",
      "To: /home/user/Desktop/data science/kidney-disease-classification-using-mlflow--End-to-End-Project/research/kidney-ct-scan-image.zip\n",
      "100%|██████████| 57.7M/57.7M [00:37<00:00, 1.55MB/s]\n"
     ]
    },
    {
     "data": {
      "text/plain": [
       "'kidney-ct-scan-image.zip'"
      ]
     },
     "execution_count": 14,
     "metadata": {},
     "output_type": "execute_result"
    }
   ],
   "source": [
    "\n",
    "prefix = 'https://drive.google.com/uc?/export=download&id='\n",
    "gdown.download(prefix+file_path,'kidney-ct-scan-image.zip' )"
   ]
  },
  {
   "cell_type": "code",
   "execution_count": null,
   "metadata": {},
   "outputs": [],
   "source": []
  }
 ],
 "metadata": {
  "kernelspec": {
   "display_name": "kidney",
   "language": "python",
   "name": "python3"
  },
  "language_info": {
   "codemirror_mode": {
    "name": "ipython",
    "version": 3
   },
   "file_extension": ".py",
   "mimetype": "text/x-python",
   "name": "python",
   "nbconvert_exporter": "python",
   "pygments_lexer": "ipython3",
   "version": "3.8.19"
  }
 },
 "nbformat": 4,
 "nbformat_minor": 2
}
